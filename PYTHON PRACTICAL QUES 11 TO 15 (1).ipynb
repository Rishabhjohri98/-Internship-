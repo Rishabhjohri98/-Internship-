{
 "cells": [
  {
   "cell_type": "code",
   "execution_count": 10,
   "id": "8855e0b2",
   "metadata": {},
   "outputs": [
    {
     "ename": "SyntaxError",
     "evalue": "invalid syntax (4012791575.py, line 9)",
     "output_type": "error",
     "traceback": [
      "\u001b[1;36m  Input \u001b[1;32mIn [10]\u001b[1;36m\u001b[0m\n\u001b[1;33m    for i range(1,number+1):\u001b[0m\n\u001b[1;37m          ^\u001b[0m\n\u001b[1;31mSyntaxError\u001b[0m\u001b[1;31m:\u001b[0m invalid syntax\n"
     ]
    }
   ],
   "source": [
    "number=int(input(\"ENTER YOUR NUMBER\"))\n",
    "factorial=1\n",
    "\n",
    "if num < 0:\n",
    "    print(\"FACTORIAL NOT EXIST AT ALL\")\n",
    "elif num == 0:\n",
    "    print(\"FACTORIAL OF 0 IS 1\")\n",
    "else:\n",
    "    for i range(1,number+1):\n",
    "        factorial=factorial*i\n",
    "    print(\"FACTORIAL OF\",number,\"is\",factorial)                          ANSWER Q-11"
   ]
  },
  {
   "cell_type": "code",
   "execution_count": 1,
   "id": "7d953952",
   "metadata": {},
   "outputs": [
    {
     "name": "stdout",
     "output_type": "stream",
     "text": [
      "Enter any number:2\n",
      "2 number is prime but not composite number\n"
     ]
    }
   ],
   "source": [
    "n= int(input(\"Enter any number:\"))\n",
    "if(n ==0 or n == 1):\n",
    "    printf(n,\"Number is neither prime nor composite\")\n",
    "elif n>1 :\n",
    "    for i in range(2,n):\n",
    "        if(n%i == 0):\n",
    "            print(n,\"is not prime but composite number\")\n",
    "            break\n",
    "    else:\n",
    "        print(n,\"number is prime but not composite number\")\n",
    "else :\n",
    "    print(\"Please enter positive number only \")                              ANSWER Q-12"
   ]
  },
  {
   "cell_type": "code",
   "execution_count": 2,
   "id": "aeed2523",
   "metadata": {},
   "outputs": [
    {
     "name": "stdout",
     "output_type": "stream",
     "text": [
      "Enter a number:24\n",
      "Not a palindrome!\n"
     ]
    }
   ],
   "source": [
    "num=int(input(\"Enter a number:\"))\n",
    "temp=num\n",
    "rev=0\n",
    "while(num>0):\n",
    "    dig=num%10\n",
    "    rev=rev*10+dig\n",
    "    num=num//10\n",
    "if(temp==rev):\n",
    "    print(\"The number is palindrome!\")\n",
    "else:\n",
    "    print(\"Not a palindrome!\")                                                 ANSWER Q-13"
   ]
  },
  {
   "cell_type": "code",
   "execution_count": 4,
   "id": "82455d41",
   "metadata": {},
   "outputs": [
    {
     "name": "stdout",
     "output_type": "stream",
     "text": [
      "Hypotenuse = 5.0\n",
      "Adjacent = 4.0\n",
      "Opposite = 3.0\n",
      "know the answer!\n"
     ]
    }
   ],
   "source": [
    "def pythagoras(opposite_side,adjacent_side,hypotenuse):\n",
    "        if opposite_side == str(\"x\"):\n",
    "            return (\"Opposite = \" + str(((hypotenuse**2) - (adjacent_side**2))**0.5))\n",
    "        elif adjacent_side == str(\"x\"):\n",
    "            return (\"Adjacent = \" + str(((hypotenuse**2) - (opposite_side**2))**0.5))\n",
    "        elif hypotenuse == str(\"x\"):\n",
    "            return (\"Hypotenuse = \" + str(((opposite_side**2) + (adjacent_side**2))**0.5))\n",
    "        else:\n",
    "            return \"know the answer!\"\n",
    "    \n",
    "print(pythagoras(3,4,'x'))\n",
    "print(pythagoras(3,'x',5))\n",
    "print(pythagoras('x',4,5))\n",
    "print(pythagoras(3,4,5))                                                        ANSWER Q-14"
   ]
  },
  {
   "cell_type": "code",
   "execution_count": 6,
   "id": "00011aa5",
   "metadata": {},
   "outputs": [
    {
     "name": "stdout",
     "output_type": "stream",
     "text": [
      "Enter the string: TRUE   FALSE   TRUE\n",
      "{'T': 2, 'R': 2, 'U': 2, 'E': 3, ' ': 6, 'F': 1, 'A': 1, 'L': 1, 'S': 1}\n"
     ]
    }
   ],
   "source": [
    "str1 = input (\"Enter the string: \")\n",
    "d = dict()\n",
    "for c in str1:\n",
    "    if c in d:\n",
    "        d[c] = d[c] + 1\n",
    "    else:\n",
    "        d[c] = 1\n",
    "print(d)                                                                       ANSWER Q-15"
   ]
  },
  {
   "cell_type": "code",
   "execution_count": null,
   "id": "3d04844b",
   "metadata": {},
   "outputs": [],
   "source": []
  }
 ],
 "metadata": {
  "kernelspec": {
   "display_name": "Python 3 (ipykernel)",
   "language": "python",
   "name": "python3"
  },
  "language_info": {
   "codemirror_mode": {
    "name": "ipython",
    "version": 3
   },
   "file_extension": ".py",
   "mimetype": "text/x-python",
   "name": "python",
   "nbconvert_exporter": "python",
   "pygments_lexer": "ipython3",
   "version": "3.9.12"
  }
 },
 "nbformat": 4,
 "nbformat_minor": 5
}
