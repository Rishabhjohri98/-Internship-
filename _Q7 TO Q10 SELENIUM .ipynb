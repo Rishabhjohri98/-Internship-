{
 "cells": [
  {
   "cell_type": "code",
   "execution_count": 2,
   "id": "83b04e96",
   "metadata": {},
   "outputs": [],
   "source": [
    "from bs4 import BeautifulSoup\n",
    "import requests\n",
    "import pandas as pd\n",
    "import re\n",
    "import selenium\n",
    "from selenium import webdriver\n",
    "from selenium.common.exceptions import StaleElementReferenceException,NoSuchElementException\n",
    "from selenium.webdriver.common.by import By\n",
    "import time"
   ]
  },
  {
   "cell_type": "code",
   "execution_count": 3,
   "id": "4a4e24d8",
   "metadata": {},
   "outputs": [
    {
     "name": "stderr",
     "output_type": "stream",
     "text": [
      "C:\\Users\\RISHABH JOHRI\\AppData\\Local\\Temp\\ipykernel_6028\\55920059.py:1: DeprecationWarning: executable_path has been deprecated, please pass in a Service object\n",
      "  driver = webdriver.Chrome(r\"C:\\Users\\RISHABH JOHRI\\Downloads\\chromedriver_win32\\chromedriver.exe\")\n"
     ]
    }
   ],
   "source": [
    "driver = webdriver.Chrome(r\"C:\\Users\\RISHABH JOHRI\\Downloads\\chromedriver_win32\\chromedriver.exe\")              ANSWER Q-7"
   ]
  },
  {
   "cell_type": "code",
   "execution_count": 6,
   "id": "244cc1ab",
   "metadata": {},
   "outputs": [],
   "source": [
    "url=\"https://www.myntra.com/shoes\"\n",
    "driver.get(url)"
   ]
  },
  {
   "cell_type": "code",
   "execution_count": 7,
   "id": "821034ff",
   "metadata": {},
   "outputs": [],
   "source": [
    "filter_button=driver.find_elements(By.XPATH,\"//label[@class='common-customerCheckbox vertical-filters-label']\")\n",
    "for i in filter_button:\n",
    "    if i.text==\"Rs. 7184 to Rs. 14125\":\n",
    "        i.click()\n",
    "        break"
   ]
  },
  {
   "cell_type": "code",
   "execution_count": 8,
   "id": "2c3fe7a5",
   "metadata": {},
   "outputs": [],
   "source": [
    "filter_button=driver.find_elements(By.XPATH,\"//li[@class='colour-listItem']\")\n",
    "for i in filter_button:\n",
    "    if i.text==\"Black\":\n",
    "        i.click()\n",
    "        break"
   ]
  },
  {
   "cell_type": "code",
   "execution_count": 9,
   "id": "679ee0d1",
   "metadata": {},
   "outputs": [],
   "source": [
    "B_name=[]\n",
    "Price=[]\n",
    "P_desc=[]"
   ]
  },
  {
   "cell_type": "code",
   "execution_count": 10,
   "id": "8c4a3407",
   "metadata": {},
   "outputs": [],
   "source": [
    "for i in range(2):\n",
    "    b_name=driver.find_elements(By.XPATH,\"//h1[@class='pdp-title']\")\n",
    "    p_desc=driver.find_elements(By.XPATH,\"//h1[@class='name']\")\n",
    "    price =driver.find_elements(By.XPATH,\"//div[@class='product-price']\")\n",
    " \n",
    "    for j  in b_name[0:100]:\n",
    "        B_name.append(j.text)   \n",
    "    \n",
    "    \n",
    "    \n",
    "    for k in p_desc[0:100]:\n",
    "        P_desc.append(k.text)\n",
    "    \n",
    "    \n",
    "    for l in price[0:100]:\n",
    "        Price.append(l.text)"
   ]
  },
  {
   "cell_type": "code",
   "execution_count": 12,
   "id": "9b1578fc",
   "metadata": {},
   "outputs": [
    {
     "name": "stdout",
     "output_type": "stream",
     "text": [
      "0 100 0\n"
     ]
    }
   ],
   "source": [
    "print(len(B_name),len(Price),len(P_desc))"
   ]
  },
  {
   "cell_type": "code",
   "execution_count": 13,
   "id": "637825e7",
   "metadata": {},
   "outputs": [],
   "source": [
    "df=pd.DataFrame({'PRICE':Price})"
   ]
  },
  {
   "cell_type": "code",
   "execution_count": 14,
   "id": "70dedc67",
   "metadata": {},
   "outputs": [
    {
     "data": {
      "text/html": [
       "<div>\n",
       "<style scoped>\n",
       "    .dataframe tbody tr th:only-of-type {\n",
       "        vertical-align: middle;\n",
       "    }\n",
       "\n",
       "    .dataframe tbody tr th {\n",
       "        vertical-align: top;\n",
       "    }\n",
       "\n",
       "    .dataframe thead th {\n",
       "        text-align: right;\n",
       "    }\n",
       "</style>\n",
       "<table border=\"1\" class=\"dataframe\">\n",
       "  <thead>\n",
       "    <tr style=\"text-align: right;\">\n",
       "      <th></th>\n",
       "      <th>PRICE</th>\n",
       "    </tr>\n",
       "  </thead>\n",
       "  <tbody>\n",
       "    <tr>\n",
       "      <th>0</th>\n",
       "      <td>Rs. 1799Rs. 2999(40% OFF)</td>\n",
       "    </tr>\n",
       "    <tr>\n",
       "      <th>1</th>\n",
       "      <td>Rs. 1619Rs. 5399(70% OFF)</td>\n",
       "    </tr>\n",
       "    <tr>\n",
       "      <th>2</th>\n",
       "      <td>Rs. 872Rs. 3795(77% OFF)</td>\n",
       "    </tr>\n",
       "    <tr>\n",
       "      <th>3</th>\n",
       "      <td>Rs. 2249Rs. 4499(50% OFF)</td>\n",
       "    </tr>\n",
       "    <tr>\n",
       "      <th>4</th>\n",
       "      <td>Rs. 7880Rs. 8295(5% OFF)</td>\n",
       "    </tr>\n",
       "    <tr>\n",
       "      <th>...</th>\n",
       "      <td>...</td>\n",
       "    </tr>\n",
       "    <tr>\n",
       "      <th>95</th>\n",
       "      <td>Rs. 649Rs. 999(35% OFF)</td>\n",
       "    </tr>\n",
       "    <tr>\n",
       "      <th>96</th>\n",
       "      <td>Rs. 1999</td>\n",
       "    </tr>\n",
       "    <tr>\n",
       "      <th>97</th>\n",
       "      <td>Rs. 1609Rs. 4599(65% OFF)</td>\n",
       "    </tr>\n",
       "    <tr>\n",
       "      <th>98</th>\n",
       "      <td>Rs. 899Rs. 4495(80% OFF)</td>\n",
       "    </tr>\n",
       "    <tr>\n",
       "      <th>99</th>\n",
       "      <td>Rs. 704Rs. 1499(53% OFF)</td>\n",
       "    </tr>\n",
       "  </tbody>\n",
       "</table>\n",
       "<p>100 rows × 1 columns</p>\n",
       "</div>"
      ],
      "text/plain": [
       "                        PRICE\n",
       "0   Rs. 1799Rs. 2999(40% OFF)\n",
       "1   Rs. 1619Rs. 5399(70% OFF)\n",
       "2    Rs. 872Rs. 3795(77% OFF)\n",
       "3   Rs. 2249Rs. 4499(50% OFF)\n",
       "4    Rs. 7880Rs. 8295(5% OFF)\n",
       "..                        ...\n",
       "95    Rs. 649Rs. 999(35% OFF)\n",
       "96                   Rs. 1999\n",
       "97  Rs. 1609Rs. 4599(65% OFF)\n",
       "98   Rs. 899Rs. 4495(80% OFF)\n",
       "99   Rs. 704Rs. 1499(53% OFF)\n",
       "\n",
       "[100 rows x 1 columns]"
      ]
     },
     "execution_count": 14,
     "metadata": {},
     "output_type": "execute_result"
    }
   ],
   "source": [
    "df"
   ]
  },
  {
   "cell_type": "code",
   "execution_count": 15,
   "id": "f62a9b57",
   "metadata": {},
   "outputs": [
    {
     "name": "stderr",
     "output_type": "stream",
     "text": [
      "C:\\Users\\RISHABH JOHRI\\AppData\\Local\\Temp\\ipykernel_14076\\55920059.py:1: DeprecationWarning: executable_path has been deprecated, please pass in a Service object\n",
      "  driver = webdriver.Chrome(r\"C:\\Users\\RISHABH JOHRI\\Downloads\\chromedriver_win32\\chromedriver.exe\")\n"
     ]
    }
   ],
   "source": [
    "driver = webdriver.Chrome(r\"C:\\Users\\RISHABH JOHRI\\Downloads\\chromedriver_win32\\chromedriver.exe\")         ANSWER Q-8"
   ]
  },
  {
   "cell_type": "code",
   "execution_count": 16,
   "id": "3f6ac4eb",
   "metadata": {},
   "outputs": [],
   "source": [
    "url=\"https://www.amazon.in \"\n",
    "driver.get(url)"
   ]
  },
  {
   "cell_type": "code",
   "execution_count": 17,
   "id": "43e47f81",
   "metadata": {},
   "outputs": [
    {
     "data": {
      "text/plain": [
       "[<selenium.webdriver.remote.webelement.WebElement (session=\"e6c07107902ed391e3c811728703b5ef\", element=\"49e1747c-5b60-4a8f-8c97-07c3faab41b5\")>]"
      ]
     },
     "execution_count": 17,
     "metadata": {},
     "output_type": "execute_result"
    }
   ],
   "source": [
    "search_g= driver.find_elements(By.XPATH,\"//input[@type='text']\")\n",
    "search_g"
   ]
  },
  {
   "cell_type": "code",
   "execution_count": 18,
   "id": "0e1ff06e",
   "metadata": {},
   "outputs": [
    {
     "ename": "AttributeError",
     "evalue": "'list' object has no attribute 'send_keys'",
     "output_type": "error",
     "traceback": [
      "\u001b[1;31m---------------------------------------------------------------------------\u001b[0m",
      "\u001b[1;31mAttributeError\u001b[0m                            Traceback (most recent call last)",
      "Input \u001b[1;32mIn [18]\u001b[0m, in \u001b[0;36m<cell line: 1>\u001b[1;34m()\u001b[0m\n\u001b[1;32m----> 1\u001b[0m \u001b[43msearch_g\u001b[49m\u001b[38;5;241;43m.\u001b[39;49m\u001b[43msend_keys\u001b[49m(\u001b[38;5;124m'\u001b[39m\u001b[38;5;124mLaptop\u001b[39m\u001b[38;5;124m'\u001b[39m)\n",
      "\u001b[1;31mAttributeError\u001b[0m: 'list' object has no attribute 'send_keys'"
     ]
    }
   ],
   "source": [
    "search_g.send_keys('Laptop')"
   ]
  },
  {
   "cell_type": "code",
   "execution_count": 19,
   "id": "68640a1e",
   "metadata": {},
   "outputs": [
    {
     "data": {
      "text/plain": [
       "[<selenium.webdriver.remote.webelement.WebElement (session=\"e6c07107902ed391e3c811728703b5ef\", element=\"05258166-7b64-44ee-a490-1f7013511c4f\")>]"
      ]
     },
     "execution_count": 19,
     "metadata": {},
     "output_type": "execute_result"
    }
   ],
   "source": [
    "search_btn=driver.find_elements(By.XPATH,\"//input[@id='nav-search-submit-button']\")\n",
    "search_btn"
   ]
  },
  {
   "cell_type": "code",
   "execution_count": 20,
   "id": "73fc991f",
   "metadata": {},
   "outputs": [
    {
     "ename": "AttributeError",
     "evalue": "'list' object has no attribute 'click'",
     "output_type": "error",
     "traceback": [
      "\u001b[1;31m---------------------------------------------------------------------------\u001b[0m",
      "\u001b[1;31mAttributeError\u001b[0m                            Traceback (most recent call last)",
      "Input \u001b[1;32mIn [20]\u001b[0m, in \u001b[0;36m<cell line: 2>\u001b[1;34m()\u001b[0m\n\u001b[0;32m      1\u001b[0m search_btn\u001b[38;5;241m=\u001b[39mdriver\u001b[38;5;241m.\u001b[39mfind_elements(By\u001b[38;5;241m.\u001b[39mXPATH,\u001b[38;5;124m\"\u001b[39m\u001b[38;5;124m//input[@id=\u001b[39m\u001b[38;5;124m'\u001b[39m\u001b[38;5;124mnav-search-submit-button\u001b[39m\u001b[38;5;124m'\u001b[39m\u001b[38;5;124m]\u001b[39m\u001b[38;5;124m\"\u001b[39m)\n\u001b[1;32m----> 2\u001b[0m \u001b[43msearch_btn\u001b[49m\u001b[38;5;241;43m.\u001b[39;49m\u001b[43mclick\u001b[49m()\n",
      "\u001b[1;31mAttributeError\u001b[0m: 'list' object has no attribute 'click'"
     ]
    }
   ],
   "source": [
    "search_btn=driver.find_elements(By.XPATH,\"//input[@id='nav-search-submit-button']\")\n",
    "search_btn.click()"
   ]
  },
  {
   "cell_type": "code",
   "execution_count": 21,
   "id": "ee9e4f9e",
   "metadata": {},
   "outputs": [],
   "source": [
    "Title=[]\n",
    "Price=[]\n",
    "Rating=[]"
   ]
  },
  {
   "cell_type": "code",
   "execution_count": 22,
   "id": "127f6fc3",
   "metadata": {},
   "outputs": [],
   "source": [
    "for i in range(3):\n",
    "    Title=driver.find_elements(By.XPATH,\"//h2[@class='a-size-mini a-spacing-none a-color-base s-line-clamp-2']\")\n",
    "    Price=driver.find_elements(By.XPATH,\"//span[@class='a-price-whole']\")\n",
    "    Rating=driver.find_elements(By.XPATH,\"//i[@class='a-icon a-icon-star-small a-star-small-5 aok-align-bottom']\")\n",
    "    \n",
    "    \n",
    "    for i in Title[0:100]:\n",
    "        Title.append(i.text)\n",
    "    \n",
    "    \n",
    "    for k in Price[0:100]:\n",
    "        Price.append(k.text)\n",
    "    \n",
    "    \n",
    "    for l in Rating[0:100]:\n",
    "        Rating.append(l.text) "
   ]
  },
  {
   "cell_type": "code",
   "execution_count": 23,
   "id": "f7df9e9e",
   "metadata": {},
   "outputs": [
    {
     "name": "stdout",
     "output_type": "stream",
     "text": [
      "0 18 0\n"
     ]
    }
   ],
   "source": [
    "print(len(Title),len(Price),len(Rating))"
   ]
  },
  {
   "cell_type": "code",
   "execution_count": 38,
   "id": "1d29f87a",
   "metadata": {},
   "outputs": [],
   "source": [
    "df=pd.DataFrame({'TITLE':Title,'PRICE':Price})"
   ]
  },
  {
   "cell_type": "code",
   "execution_count": 39,
   "id": "da311ffd",
   "metadata": {},
   "outputs": [
    {
     "data": {
      "text/html": [
       "<div>\n",
       "<style scoped>\n",
       "    .dataframe tbody tr th:only-of-type {\n",
       "        vertical-align: middle;\n",
       "    }\n",
       "\n",
       "    .dataframe tbody tr th {\n",
       "        vertical-align: top;\n",
       "    }\n",
       "\n",
       "    .dataframe thead th {\n",
       "        text-align: right;\n",
       "    }\n",
       "</style>\n",
       "<table border=\"1\" class=\"dataframe\">\n",
       "  <thead>\n",
       "    <tr style=\"text-align: right;\">\n",
       "      <th></th>\n",
       "      <th>TITLE</th>\n",
       "      <th>PRICE</th>\n",
       "    </tr>\n",
       "  </thead>\n",
       "  <tbody>\n",
       "    <tr>\n",
       "      <th>0</th>\n",
       "      <td>&lt;selenium.webdriver.remote.webelement.WebEleme...</td>\n",
       "      <td>&lt;selenium.webdriver.remote.webelement.WebEleme...</td>\n",
       "    </tr>\n",
       "    <tr>\n",
       "      <th>1</th>\n",
       "      <td>&lt;selenium.webdriver.remote.webelement.WebEleme...</td>\n",
       "      <td>&lt;selenium.webdriver.remote.webelement.WebEleme...</td>\n",
       "    </tr>\n",
       "    <tr>\n",
       "      <th>2</th>\n",
       "      <td>&lt;selenium.webdriver.remote.webelement.WebEleme...</td>\n",
       "      <td>&lt;selenium.webdriver.remote.webelement.WebEleme...</td>\n",
       "    </tr>\n",
       "    <tr>\n",
       "      <th>3</th>\n",
       "      <td>&lt;selenium.webdriver.remote.webelement.WebEleme...</td>\n",
       "      <td>&lt;selenium.webdriver.remote.webelement.WebEleme...</td>\n",
       "    </tr>\n",
       "    <tr>\n",
       "      <th>4</th>\n",
       "      <td>&lt;selenium.webdriver.remote.webelement.WebEleme...</td>\n",
       "      <td>&lt;selenium.webdriver.remote.webelement.WebEleme...</td>\n",
       "    </tr>\n",
       "    <tr>\n",
       "      <th>5</th>\n",
       "      <td>&lt;selenium.webdriver.remote.webelement.WebEleme...</td>\n",
       "      <td>&lt;selenium.webdriver.remote.webelement.WebEleme...</td>\n",
       "    </tr>\n",
       "    <tr>\n",
       "      <th>6</th>\n",
       "      <td>&lt;selenium.webdriver.remote.webelement.WebEleme...</td>\n",
       "      <td>&lt;selenium.webdriver.remote.webelement.WebEleme...</td>\n",
       "    </tr>\n",
       "    <tr>\n",
       "      <th>7</th>\n",
       "      <td>&lt;selenium.webdriver.remote.webelement.WebEleme...</td>\n",
       "      <td>&lt;selenium.webdriver.remote.webelement.WebEleme...</td>\n",
       "    </tr>\n",
       "    <tr>\n",
       "      <th>8</th>\n",
       "      <td>&lt;selenium.webdriver.remote.webelement.WebEleme...</td>\n",
       "      <td>&lt;selenium.webdriver.remote.webelement.WebEleme...</td>\n",
       "    </tr>\n",
       "    <tr>\n",
       "      <th>9</th>\n",
       "      <td>&lt;selenium.webdriver.remote.webelement.WebEleme...</td>\n",
       "      <td>&lt;selenium.webdriver.remote.webelement.WebEleme...</td>\n",
       "    </tr>\n",
       "    <tr>\n",
       "      <th>10</th>\n",
       "      <td>&lt;selenium.webdriver.remote.webelement.WebEleme...</td>\n",
       "      <td>&lt;selenium.webdriver.remote.webelement.WebEleme...</td>\n",
       "    </tr>\n",
       "    <tr>\n",
       "      <th>11</th>\n",
       "      <td>&lt;selenium.webdriver.remote.webelement.WebEleme...</td>\n",
       "      <td>&lt;selenium.webdriver.remote.webelement.WebEleme...</td>\n",
       "    </tr>\n",
       "    <tr>\n",
       "      <th>12</th>\n",
       "      <td>&lt;selenium.webdriver.remote.webelement.WebEleme...</td>\n",
       "      <td>&lt;selenium.webdriver.remote.webelement.WebEleme...</td>\n",
       "    </tr>\n",
       "    <tr>\n",
       "      <th>13</th>\n",
       "      <td>&lt;selenium.webdriver.remote.webelement.WebEleme...</td>\n",
       "      <td>&lt;selenium.webdriver.remote.webelement.WebEleme...</td>\n",
       "    </tr>\n",
       "    <tr>\n",
       "      <th>14</th>\n",
       "      <td>&lt;selenium.webdriver.remote.webelement.WebEleme...</td>\n",
       "      <td>&lt;selenium.webdriver.remote.webelement.WebEleme...</td>\n",
       "    </tr>\n",
       "    <tr>\n",
       "      <th>15</th>\n",
       "      <td>&lt;selenium.webdriver.remote.webelement.WebEleme...</td>\n",
       "      <td>&lt;selenium.webdriver.remote.webelement.WebEleme...</td>\n",
       "    </tr>\n",
       "    <tr>\n",
       "      <th>16</th>\n",
       "      <td>&lt;selenium.webdriver.remote.webelement.WebEleme...</td>\n",
       "      <td>&lt;selenium.webdriver.remote.webelement.WebEleme...</td>\n",
       "    </tr>\n",
       "    <tr>\n",
       "      <th>17</th>\n",
       "      <td>&lt;selenium.webdriver.remote.webelement.WebEleme...</td>\n",
       "      <td>&lt;selenium.webdriver.remote.webelement.WebEleme...</td>\n",
       "    </tr>\n",
       "    <tr>\n",
       "      <th>18</th>\n",
       "      <td>&lt;selenium.webdriver.remote.webelement.WebEleme...</td>\n",
       "      <td>&lt;selenium.webdriver.remote.webelement.WebEleme...</td>\n",
       "    </tr>\n",
       "    <tr>\n",
       "      <th>19</th>\n",
       "      <td>&lt;selenium.webdriver.remote.webelement.WebEleme...</td>\n",
       "      <td>&lt;selenium.webdriver.remote.webelement.WebEleme...</td>\n",
       "    </tr>\n",
       "    <tr>\n",
       "      <th>20</th>\n",
       "      <td>&lt;selenium.webdriver.remote.webelement.WebEleme...</td>\n",
       "      <td>&lt;selenium.webdriver.remote.webelement.WebEleme...</td>\n",
       "    </tr>\n",
       "    <tr>\n",
       "      <th>21</th>\n",
       "      <td>&lt;selenium.webdriver.remote.webelement.WebEleme...</td>\n",
       "      <td>&lt;selenium.webdriver.remote.webelement.WebEleme...</td>\n",
       "    </tr>\n",
       "    <tr>\n",
       "      <th>22</th>\n",
       "      <td>&lt;selenium.webdriver.remote.webelement.WebEleme...</td>\n",
       "      <td>&lt;selenium.webdriver.remote.webelement.WebEleme...</td>\n",
       "    </tr>\n",
       "    <tr>\n",
       "      <th>23</th>\n",
       "      <td>&lt;selenium.webdriver.remote.webelement.WebEleme...</td>\n",
       "      <td>&lt;selenium.webdriver.remote.webelement.WebEleme...</td>\n",
       "    </tr>\n",
       "    <tr>\n",
       "      <th>24</th>\n",
       "      <td>&lt;selenium.webdriver.remote.webelement.WebEleme...</td>\n",
       "      <td>&lt;selenium.webdriver.remote.webelement.WebEleme...</td>\n",
       "    </tr>\n",
       "    <tr>\n",
       "      <th>25</th>\n",
       "      <td>&lt;selenium.webdriver.remote.webelement.WebEleme...</td>\n",
       "      <td>&lt;selenium.webdriver.remote.webelement.WebEleme...</td>\n",
       "    </tr>\n",
       "    <tr>\n",
       "      <th>26</th>\n",
       "      <td>&lt;selenium.webdriver.remote.webelement.WebEleme...</td>\n",
       "      <td>&lt;selenium.webdriver.remote.webelement.WebEleme...</td>\n",
       "    </tr>\n",
       "    <tr>\n",
       "      <th>27</th>\n",
       "      <td>&lt;selenium.webdriver.remote.webelement.WebEleme...</td>\n",
       "      <td>&lt;selenium.webdriver.remote.webelement.WebEleme...</td>\n",
       "    </tr>\n",
       "    <tr>\n",
       "      <th>28</th>\n",
       "      <td>&lt;selenium.webdriver.remote.webelement.WebEleme...</td>\n",
       "      <td>&lt;selenium.webdriver.remote.webelement.WebEleme...</td>\n",
       "    </tr>\n",
       "    <tr>\n",
       "      <th>29</th>\n",
       "      <td>&lt;selenium.webdriver.remote.webelement.WebEleme...</td>\n",
       "      <td>&lt;selenium.webdriver.remote.webelement.WebEleme...</td>\n",
       "    </tr>\n",
       "    <tr>\n",
       "      <th>30</th>\n",
       "      <td>Lenovo IdeaPad Slim 5 Intel Core i7 12th Gen 1...</td>\n",
       "      <td>82,990</td>\n",
       "    </tr>\n",
       "    <tr>\n",
       "      <th>31</th>\n",
       "      <td>GIGABYTE AERO 5 KE4 Laptop, 15.6\" UHD OLED 60H...</td>\n",
       "      <td>1,67,990</td>\n",
       "    </tr>\n",
       "    <tr>\n",
       "      <th>32</th>\n",
       "      <td>Lenovo IdeaPad Slim 5 Intel Core i7 12th Gen 1...</td>\n",
       "      <td>82,990</td>\n",
       "    </tr>\n",
       "    <tr>\n",
       "      <th>33</th>\n",
       "      <td>Lenovo Ideapad Gaming 3 Intel Core i7 10th Gen...</td>\n",
       "      <td>62,990</td>\n",
       "    </tr>\n",
       "    <tr>\n",
       "      <th>34</th>\n",
       "      <td>Lenovo ThinkBook 15 Intel 11th Gen Core i7 15....</td>\n",
       "      <td>80,990</td>\n",
       "    </tr>\n",
       "    <tr>\n",
       "      <th>35</th>\n",
       "      <td>ASUS TUF Gaming F15 (2022), 15.6-inch (39.62 c...</td>\n",
       "      <td>1,09,990</td>\n",
       "    </tr>\n",
       "    <tr>\n",
       "      <th>36</th>\n",
       "      <td>ASUS TUF Gaming F15 (2022), 15.6\" (39.62 cms) ...</td>\n",
       "      <td>1,07,990</td>\n",
       "    </tr>\n",
       "    <tr>\n",
       "      <th>37</th>\n",
       "      <td>ASUS Vivobook 15, 15.6-inch (39.62 cms) FHD, I...</td>\n",
       "      <td>59,490</td>\n",
       "    </tr>\n",
       "    <tr>\n",
       "      <th>38</th>\n",
       "      <td>ASUS Zenbook 13 OLED, 13.3-inch (33.78 cms) FH...</td>\n",
       "      <td>79,990</td>\n",
       "    </tr>\n",
       "    <tr>\n",
       "      <th>39</th>\n",
       "      <td>Lenovo Yoga 7i 11th Gen Intel Core i7-1165G7 1...</td>\n",
       "      <td>1,06,999</td>\n",
       "    </tr>\n",
       "    <tr>\n",
       "      <th>40</th>\n",
       "      <td>DELL Alienware x14 Gaming Laptop, Intel i7-127...</td>\n",
       "      <td>2,00,490</td>\n",
       "    </tr>\n",
       "    <tr>\n",
       "      <th>41</th>\n",
       "      <td>LG Gram Intel Evo 11th Gen Core i7 17\"(43cm)Ul...</td>\n",
       "      <td>94,999</td>\n",
       "    </tr>\n",
       "    <tr>\n",
       "      <th>42</th>\n",
       "      <td>ASUS VivoBook K15 OLED (2021), 15.6-inch FHD O...</td>\n",
       "      <td>82,990</td>\n",
       "    </tr>\n",
       "    <tr>\n",
       "      <th>43</th>\n",
       "      <td>ASUS TUF Dash F15 (2022), 15.6-inch (39.62 cms...</td>\n",
       "      <td>1,60,999</td>\n",
       "    </tr>\n",
       "    <tr>\n",
       "      <th>44</th>\n",
       "      <td>AGB Octev AB-1210 7th Generation Intel Core i7...</td>\n",
       "      <td>88,000</td>\n",
       "    </tr>\n",
       "    <tr>\n",
       "      <th>45</th>\n",
       "      <td>AGB Octev AG-1208 15.6\" Laptop(7th Generation ...</td>\n",
       "      <td>70,000</td>\n",
       "    </tr>\n",
       "    <tr>\n",
       "      <th>46</th>\n",
       "      <td>ASUS Zenbook 14 OLED (2022), 14\" (35.56 cms) 2...</td>\n",
       "      <td>1,02,999</td>\n",
       "    </tr>\n",
       "    <tr>\n",
       "      <th>47</th>\n",
       "      <td>Hp Pavilion X360 11Th Gen Intel Core I7 14 Inc...</td>\n",
       "      <td>84,990</td>\n",
       "    </tr>\n",
       "    <tr>\n",
       "      <th>48</th>\n",
       "      <td>HP Pavilion x360 11th Gen Intel Core i7 14 inc...</td>\n",
       "      <td>81,990</td>\n",
       "    </tr>\n",
       "    <tr>\n",
       "      <th>49</th>\n",
       "      <td>ASUS TUF Dash F15 (2022), 15.6-inch (39.62 cms...</td>\n",
       "      <td>1,26,990</td>\n",
       "    </tr>\n",
       "    <tr>\n",
       "      <th>50</th>\n",
       "      <td>(Renewed) Lenovo Intel Core i7 5600U 12.5-Inch...</td>\n",
       "      <td>23,997</td>\n",
       "    </tr>\n",
       "    <tr>\n",
       "      <th>51</th>\n",
       "      <td>ASUS TUF Gaming F15 (2022), 15.6-inch (39.62 c...</td>\n",
       "      <td>1,39,999</td>\n",
       "    </tr>\n",
       "    <tr>\n",
       "      <th>52</th>\n",
       "      <td>Lenovo ThinkPad E14 Intel Core i7 11th Gen 14-...</td>\n",
       "      <td>94,990</td>\n",
       "    </tr>\n",
       "    <tr>\n",
       "      <th>53</th>\n",
       "      <td>HP Victus 12th Gen Intel Core i7 15.6 inch(39....</td>\n",
       "      <td>1,04,000</td>\n",
       "    </tr>\n",
       "    <tr>\n",
       "      <th>54</th>\n",
       "      <td>Lenovo IdeaPad Flex 5 Intel Core i7 11th Gen 1...</td>\n",
       "      <td>82,670</td>\n",
       "    </tr>\n",
       "    <tr>\n",
       "      <th>55</th>\n",
       "      <td>GIGABYTE AERO 5 KE4 Laptop, 15.6\" UHD OLED 60H...</td>\n",
       "      <td>1,67,990</td>\n",
       "    </tr>\n",
       "    <tr>\n",
       "      <th>56</th>\n",
       "      <td>ASUS Vivobook S15 OLED (2022), 15.6\" (39.62 cm...</td>\n",
       "      <td>94,990</td>\n",
       "    </tr>\n",
       "    <tr>\n",
       "      <th>57</th>\n",
       "      <td>MSI Modern 14, Intel i7-1195G7, 14\" FHD IPS-Le...</td>\n",
       "      <td>54,990</td>\n",
       "    </tr>\n",
       "    <tr>\n",
       "      <th>58</th>\n",
       "      <td>AGB Octev GA-9009 15.6\"Laptop (Intel Core i7-1...</td>\n",
       "      <td>85,000</td>\n",
       "    </tr>\n",
       "    <tr>\n",
       "      <th>59</th>\n",
       "      <td>AGB Octev VR-1818 15.6\"Laptop (Intel Core i7-1...</td>\n",
       "      <td>98,000</td>\n",
       "    </tr>\n",
       "  </tbody>\n",
       "</table>\n",
       "</div>"
      ],
      "text/plain": [
       "                                                TITLE  \\\n",
       "0   <selenium.webdriver.remote.webelement.WebEleme...   \n",
       "1   <selenium.webdriver.remote.webelement.WebEleme...   \n",
       "2   <selenium.webdriver.remote.webelement.WebEleme...   \n",
       "3   <selenium.webdriver.remote.webelement.WebEleme...   \n",
       "4   <selenium.webdriver.remote.webelement.WebEleme...   \n",
       "5   <selenium.webdriver.remote.webelement.WebEleme...   \n",
       "6   <selenium.webdriver.remote.webelement.WebEleme...   \n",
       "7   <selenium.webdriver.remote.webelement.WebEleme...   \n",
       "8   <selenium.webdriver.remote.webelement.WebEleme...   \n",
       "9   <selenium.webdriver.remote.webelement.WebEleme...   \n",
       "10  <selenium.webdriver.remote.webelement.WebEleme...   \n",
       "11  <selenium.webdriver.remote.webelement.WebEleme...   \n",
       "12  <selenium.webdriver.remote.webelement.WebEleme...   \n",
       "13  <selenium.webdriver.remote.webelement.WebEleme...   \n",
       "14  <selenium.webdriver.remote.webelement.WebEleme...   \n",
       "15  <selenium.webdriver.remote.webelement.WebEleme...   \n",
       "16  <selenium.webdriver.remote.webelement.WebEleme...   \n",
       "17  <selenium.webdriver.remote.webelement.WebEleme...   \n",
       "18  <selenium.webdriver.remote.webelement.WebEleme...   \n",
       "19  <selenium.webdriver.remote.webelement.WebEleme...   \n",
       "20  <selenium.webdriver.remote.webelement.WebEleme...   \n",
       "21  <selenium.webdriver.remote.webelement.WebEleme...   \n",
       "22  <selenium.webdriver.remote.webelement.WebEleme...   \n",
       "23  <selenium.webdriver.remote.webelement.WebEleme...   \n",
       "24  <selenium.webdriver.remote.webelement.WebEleme...   \n",
       "25  <selenium.webdriver.remote.webelement.WebEleme...   \n",
       "26  <selenium.webdriver.remote.webelement.WebEleme...   \n",
       "27  <selenium.webdriver.remote.webelement.WebEleme...   \n",
       "28  <selenium.webdriver.remote.webelement.WebEleme...   \n",
       "29  <selenium.webdriver.remote.webelement.WebEleme...   \n",
       "30  Lenovo IdeaPad Slim 5 Intel Core i7 12th Gen 1...   \n",
       "31  GIGABYTE AERO 5 KE4 Laptop, 15.6\" UHD OLED 60H...   \n",
       "32  Lenovo IdeaPad Slim 5 Intel Core i7 12th Gen 1...   \n",
       "33  Lenovo Ideapad Gaming 3 Intel Core i7 10th Gen...   \n",
       "34  Lenovo ThinkBook 15 Intel 11th Gen Core i7 15....   \n",
       "35  ASUS TUF Gaming F15 (2022), 15.6-inch (39.62 c...   \n",
       "36  ASUS TUF Gaming F15 (2022), 15.6\" (39.62 cms) ...   \n",
       "37  ASUS Vivobook 15, 15.6-inch (39.62 cms) FHD, I...   \n",
       "38  ASUS Zenbook 13 OLED, 13.3-inch (33.78 cms) FH...   \n",
       "39  Lenovo Yoga 7i 11th Gen Intel Core i7-1165G7 1...   \n",
       "40  DELL Alienware x14 Gaming Laptop, Intel i7-127...   \n",
       "41  LG Gram Intel Evo 11th Gen Core i7 17\"(43cm)Ul...   \n",
       "42  ASUS VivoBook K15 OLED (2021), 15.6-inch FHD O...   \n",
       "43  ASUS TUF Dash F15 (2022), 15.6-inch (39.62 cms...   \n",
       "44  AGB Octev AB-1210 7th Generation Intel Core i7...   \n",
       "45  AGB Octev AG-1208 15.6\" Laptop(7th Generation ...   \n",
       "46  ASUS Zenbook 14 OLED (2022), 14\" (35.56 cms) 2...   \n",
       "47  Hp Pavilion X360 11Th Gen Intel Core I7 14 Inc...   \n",
       "48  HP Pavilion x360 11th Gen Intel Core i7 14 inc...   \n",
       "49  ASUS TUF Dash F15 (2022), 15.6-inch (39.62 cms...   \n",
       "50  (Renewed) Lenovo Intel Core i7 5600U 12.5-Inch...   \n",
       "51  ASUS TUF Gaming F15 (2022), 15.6-inch (39.62 c...   \n",
       "52  Lenovo ThinkPad E14 Intel Core i7 11th Gen 14-...   \n",
       "53  HP Victus 12th Gen Intel Core i7 15.6 inch(39....   \n",
       "54  Lenovo IdeaPad Flex 5 Intel Core i7 11th Gen 1...   \n",
       "55  GIGABYTE AERO 5 KE4 Laptop, 15.6\" UHD OLED 60H...   \n",
       "56  ASUS Vivobook S15 OLED (2022), 15.6\" (39.62 cm...   \n",
       "57  MSI Modern 14, Intel i7-1195G7, 14\" FHD IPS-Le...   \n",
       "58  AGB Octev GA-9009 15.6\"Laptop (Intel Core i7-1...   \n",
       "59  AGB Octev VR-1818 15.6\"Laptop (Intel Core i7-1...   \n",
       "\n",
       "                                                PRICE  \n",
       "0   <selenium.webdriver.remote.webelement.WebEleme...  \n",
       "1   <selenium.webdriver.remote.webelement.WebEleme...  \n",
       "2   <selenium.webdriver.remote.webelement.WebEleme...  \n",
       "3   <selenium.webdriver.remote.webelement.WebEleme...  \n",
       "4   <selenium.webdriver.remote.webelement.WebEleme...  \n",
       "5   <selenium.webdriver.remote.webelement.WebEleme...  \n",
       "6   <selenium.webdriver.remote.webelement.WebEleme...  \n",
       "7   <selenium.webdriver.remote.webelement.WebEleme...  \n",
       "8   <selenium.webdriver.remote.webelement.WebEleme...  \n",
       "9   <selenium.webdriver.remote.webelement.WebEleme...  \n",
       "10  <selenium.webdriver.remote.webelement.WebEleme...  \n",
       "11  <selenium.webdriver.remote.webelement.WebEleme...  \n",
       "12  <selenium.webdriver.remote.webelement.WebEleme...  \n",
       "13  <selenium.webdriver.remote.webelement.WebEleme...  \n",
       "14  <selenium.webdriver.remote.webelement.WebEleme...  \n",
       "15  <selenium.webdriver.remote.webelement.WebEleme...  \n",
       "16  <selenium.webdriver.remote.webelement.WebEleme...  \n",
       "17  <selenium.webdriver.remote.webelement.WebEleme...  \n",
       "18  <selenium.webdriver.remote.webelement.WebEleme...  \n",
       "19  <selenium.webdriver.remote.webelement.WebEleme...  \n",
       "20  <selenium.webdriver.remote.webelement.WebEleme...  \n",
       "21  <selenium.webdriver.remote.webelement.WebEleme...  \n",
       "22  <selenium.webdriver.remote.webelement.WebEleme...  \n",
       "23  <selenium.webdriver.remote.webelement.WebEleme...  \n",
       "24  <selenium.webdriver.remote.webelement.WebEleme...  \n",
       "25  <selenium.webdriver.remote.webelement.WebEleme...  \n",
       "26  <selenium.webdriver.remote.webelement.WebEleme...  \n",
       "27  <selenium.webdriver.remote.webelement.WebEleme...  \n",
       "28  <selenium.webdriver.remote.webelement.WebEleme...  \n",
       "29  <selenium.webdriver.remote.webelement.WebEleme...  \n",
       "30                                             82,990  \n",
       "31                                           1,67,990  \n",
       "32                                             82,990  \n",
       "33                                             62,990  \n",
       "34                                             80,990  \n",
       "35                                           1,09,990  \n",
       "36                                           1,07,990  \n",
       "37                                             59,490  \n",
       "38                                             79,990  \n",
       "39                                           1,06,999  \n",
       "40                                           2,00,490  \n",
       "41                                             94,999  \n",
       "42                                             82,990  \n",
       "43                                           1,60,999  \n",
       "44                                             88,000  \n",
       "45                                             70,000  \n",
       "46                                           1,02,999  \n",
       "47                                             84,990  \n",
       "48                                             81,990  \n",
       "49                                           1,26,990  \n",
       "50                                             23,997  \n",
       "51                                           1,39,999  \n",
       "52                                             94,990  \n",
       "53                                           1,04,000  \n",
       "54                                             82,670  \n",
       "55                                           1,67,990  \n",
       "56                                             94,990  \n",
       "57                                             54,990  \n",
       "58                                             85,000  \n",
       "59                                             98,000  "
      ]
     },
     "execution_count": 39,
     "metadata": {},
     "output_type": "execute_result"
    }
   ],
   "source": [
    "df"
   ]
  },
  {
   "cell_type": "code",
   "execution_count": 24,
   "id": "132093d2",
   "metadata": {},
   "outputs": [
    {
     "name": "stderr",
     "output_type": "stream",
     "text": [
      "C:\\Users\\RISHABH JOHRI\\AppData\\Local\\Temp\\ipykernel_14076\\55920059.py:1: DeprecationWarning: executable_path has been deprecated, please pass in a Service object\n",
      "  driver = webdriver.Chrome(r\"C:\\Users\\RISHABH JOHRI\\Downloads\\chromedriver_win32\\chromedriver.exe\")\n"
     ]
    }
   ],
   "source": [
    "driver = webdriver.Chrome(r\"C:\\Users\\RISHABH JOHRI\\Downloads\\chromedriver_win32\\chromedriver.exe\")        ANSWER Q-9"
   ]
  },
  {
   "cell_type": "code",
   "execution_count": 25,
   "id": "a2e1d4cc",
   "metadata": {},
   "outputs": [],
   "source": [
    "url=\"https://www.ambitionbox.com/\"\n",
    "driver.get(url)"
   ]
  },
  {
   "cell_type": "code",
   "execution_count": 26,
   "id": "d066ce7f",
   "metadata": {},
   "outputs": [
    {
     "data": {
      "text/plain": [
       "[<selenium.webdriver.remote.webelement.WebElement (session=\"fd8077b03da302ca2cba62d8332ef14a\", element=\"4746a6f0-b3ab-4240-9ad1-11ad79e8b1a7\")>,\n",
       " <selenium.webdriver.remote.webelement.WebElement (session=\"fd8077b03da302ca2cba62d8332ef14a\", element=\"4461868c-97e4-42e6-9688-6bee7dc8f157\")>,\n",
       " <selenium.webdriver.remote.webelement.WebElement (session=\"fd8077b03da302ca2cba62d8332ef14a\", element=\"7ce78921-c7f4-4762-a333-257db57947d7\")>,\n",
       " <selenium.webdriver.remote.webelement.WebElement (session=\"fd8077b03da302ca2cba62d8332ef14a\", element=\"00c0ab36-f9ac-46ce-a04e-793c7bee3203\")>]"
      ]
     },
     "execution_count": 26,
     "metadata": {},
     "output_type": "execute_result"
    }
   ],
   "source": [
    "search_g= driver.find_elements(By.XPATH,\"//span[@class='ctas-btn-medium']\")\n",
    "search_g"
   ]
  },
  {
   "cell_type": "code",
   "execution_count": 27,
   "id": "f527e4e1",
   "metadata": {},
   "outputs": [
    {
     "ename": "AttributeError",
     "evalue": "'list' object has no attribute 'send_keys'",
     "output_type": "error",
     "traceback": [
      "\u001b[1;31m---------------------------------------------------------------------------\u001b[0m",
      "\u001b[1;31mAttributeError\u001b[0m                            Traceback (most recent call last)",
      "Input \u001b[1;32mIn [27]\u001b[0m, in \u001b[0;36m<cell line: 1>\u001b[1;34m()\u001b[0m\n\u001b[1;32m----> 1\u001b[0m \u001b[43msearch_g\u001b[49m\u001b[38;5;241;43m.\u001b[39;49m\u001b[43msend_keys\u001b[49m(\u001b[38;5;124m'\u001b[39m\u001b[38;5;124mData Scientist\u001b[39m\u001b[38;5;124m'\u001b[39m)\n",
      "\u001b[1;31mAttributeError\u001b[0m: 'list' object has no attribute 'send_keys'"
     ]
    }
   ],
   "source": [
    "search_g.send_keys('Data Scientist')"
   ]
  },
  {
   "cell_type": "code",
   "execution_count": 28,
   "id": "81be4ffb",
   "metadata": {},
   "outputs": [],
   "source": [
    "CompName=[]\n",
    "Days=[]\n",
    "Ratings=[]"
   ]
  },
  {
   "cell_type": "code",
   "execution_count": 36,
   "id": "76f40fb3",
   "metadata": {},
   "outputs": [],
   "source": [
    "compname_tag=driver.find_elements(By.XPATH,\"//a[@class='company sbold-section-header']\")\n",
    "for i in compname_tag[0:10]:\n",
    "    compname=i.text\n",
    "    CompName.append(compname)"
   ]
  },
  {
   "cell_type": "code",
   "execution_count": 37,
   "id": "c277f7a0",
   "metadata": {},
   "outputs": [],
   "source": [
    "day_tag=driver.find_elements(By.XPATH,\"//div[@class='show-flex job-actions']\")\n",
    "for i in day_tag[0:10]:\n",
    "    day=i.text\n",
    "    Days.append(day)"
   ]
  },
  {
   "cell_type": "code",
   "execution_count": 38,
   "id": "292c370d",
   "metadata": {},
   "outputs": [],
   "source": [
    "rating_tag=driver.find_elements(By.XPATH,\"//span[@class='body-medium']\")\n",
    "for i in rating_tag[0:10]:\n",
    "    rating=i.text\n",
    "    Ratings.append(rating)"
   ]
  },
  {
   "cell_type": "code",
   "execution_count": 39,
   "id": "80e6864c",
   "metadata": {},
   "outputs": [
    {
     "name": "stdout",
     "output_type": "stream",
     "text": [
      "2 2\n"
     ]
    }
   ],
   "source": [
    "print(len(Days),len(Ratings))"
   ]
  },
  {
   "cell_type": "code",
   "execution_count": 40,
   "id": "63074481",
   "metadata": {},
   "outputs": [],
   "source": [
    "df1=pd.DataFrame({'DaysAgo':Days,'RATING':Ratings})"
   ]
  },
  {
   "cell_type": "code",
   "execution_count": 41,
   "id": "1c2fef90",
   "metadata": {},
   "outputs": [
    {
     "data": {
      "text/html": [
       "<div>\n",
       "<style scoped>\n",
       "    .dataframe tbody tr th:only-of-type {\n",
       "        vertical-align: middle;\n",
       "    }\n",
       "\n",
       "    .dataframe tbody tr th {\n",
       "        vertical-align: top;\n",
       "    }\n",
       "\n",
       "    .dataframe thead th {\n",
       "        text-align: right;\n",
       "    }\n",
       "</style>\n",
       "<table border=\"1\" class=\"dataframe\">\n",
       "  <thead>\n",
       "    <tr style=\"text-align: right;\">\n",
       "      <th></th>\n",
       "      <th>DaysAgo</th>\n",
       "      <th>RATING</th>\n",
       "    </tr>\n",
       "  </thead>\n",
       "  <tbody>\n",
       "    <tr>\n",
       "      <th>0</th>\n",
       "      <td>AmbitionBox Best Places to Work in India Award...</td>\n",
       "      <td>AmbitionBox Best Places to Work in India Award...</td>\n",
       "    </tr>\n",
       "    <tr>\n",
       "      <th>1</th>\n",
       "      <td>posted 4d ago\\nApply on Naukri</td>\n",
       "      <td>4.3</td>\n",
       "    </tr>\n",
       "  </tbody>\n",
       "</table>\n",
       "</div>"
      ],
      "text/plain": [
       "                                             DaysAgo  \\\n",
       "0  AmbitionBox Best Places to Work in India Award...   \n",
       "1                     posted 4d ago\\nApply on Naukri   \n",
       "\n",
       "                                              RATING  \n",
       "0  AmbitionBox Best Places to Work in India Award...  \n",
       "1                                                4.3  "
      ]
     },
     "execution_count": 41,
     "metadata": {},
     "output_type": "execute_result"
    }
   ],
   "source": [
    "df1"
   ]
  },
  {
   "cell_type": "code",
   "execution_count": 4,
   "id": "8905dbd2",
   "metadata": {},
   "outputs": [
    {
     "name": "stderr",
     "output_type": "stream",
     "text": [
      "C:\\Users\\RISHABH JOHRI\\AppData\\Local\\Temp\\ipykernel_6028\\55920059.py:1: DeprecationWarning: executable_path has been deprecated, please pass in a Service object\n",
      "  driver = webdriver.Chrome(r\"C:\\Users\\RISHABH JOHRI\\Downloads\\chromedriver_win32\\chromedriver.exe\")\n"
     ]
    }
   ],
   "source": [
    "driver = webdriver.Chrome(r\"C:\\Users\\RISHABH JOHRI\\Downloads\\chromedriver_win32\\chromedriver.exe\")           ANSWER Q-10"
   ]
  },
  {
   "cell_type": "code",
   "execution_count": 5,
   "id": "5d74530a",
   "metadata": {},
   "outputs": [],
   "source": [
    "url=\"https://www.ambitionbox.com/\"\n",
    "driver.get(url)"
   ]
  },
  {
   "cell_type": "code",
   "execution_count": 8,
   "id": "6dac8f09",
   "metadata": {},
   "outputs": [
    {
     "data": {
      "text/plain": [
       "[<selenium.webdriver.remote.webelement.WebElement (session=\"ab995b3ca83275c9d3dca658ad9f0698\", element=\"eb6dd14c-0f6e-4bdd-8d84-9fa91d93b8f1\")>]"
      ]
     },
     "execution_count": 8,
     "metadata": {},
     "output_type": "execute_result"
    }
   ],
   "source": [
    "search=driver.find_elements(By.XPATH,\"//div[@class='searchbox-wrapper']\")\n",
    "search"
   ]
  },
  {
   "cell_type": "code",
   "execution_count": 9,
   "id": "591b5e38",
   "metadata": {},
   "outputs": [
    {
     "ename": "AttributeError",
     "evalue": "'list' object has no attribute 'send_keys'",
     "output_type": "error",
     "traceback": [
      "\u001b[1;31m---------------------------------------------------------------------------\u001b[0m",
      "\u001b[1;31mAttributeError\u001b[0m                            Traceback (most recent call last)",
      "Input \u001b[1;32mIn [9]\u001b[0m, in \u001b[0;36m<cell line: 1>\u001b[1;34m()\u001b[0m\n\u001b[1;32m----> 1\u001b[0m \u001b[43msearch\u001b[49m\u001b[38;5;241;43m.\u001b[39;49m\u001b[43msend_keys\u001b[49m(\u001b[38;5;124m'\u001b[39m\u001b[38;5;124mData Scientist\u001b[39m\u001b[38;5;124m'\u001b[39m)\n",
      "\u001b[1;31mAttributeError\u001b[0m: 'list' object has no attribute 'send_keys'"
     ]
    }
   ],
   "source": [
    "search.send_keys('Data Scientist')"
   ]
  },
  {
   "cell_type": "code",
   "execution_count": 10,
   "id": "fab9a38f",
   "metadata": {},
   "outputs": [],
   "source": [
    "company=[]\n",
    "numbersal=[]\n",
    "average=[]\n",
    "MinSal=[]\n",
    "MaxSal=[]"
   ]
  },
  {
   "cell_type": "code",
   "execution_count": 11,
   "id": "37f8febd",
   "metadata": {},
   "outputs": [],
   "source": [
    "company=driver.find_elements(By.XPATH,\"//p[@class='h1 headerTextWrapper mg-btm-4']\")\n",
    "for i in company[0:10]:\n",
    "    company=i.text\n",
    "    company.append(company)"
   ]
  },
  {
   "cell_type": "code",
   "execution_count": 15,
   "id": "ffb3da75",
   "metadata": {},
   "outputs": [],
   "source": [
    "numbersal=driver.find_elements(By.XPATH,\"//span[@class='datapoints']\")\n",
    "for i in numbersal[0:10]:\n",
    "    numbersal=i.text"
   ]
  },
  {
   "cell_type": "code",
   "execution_count": 16,
   "id": "32241eda",
   "metadata": {},
   "outputs": [],
   "source": [
    "average=driver.find_elements(By.XPATH,\"//div[@class='average-indicator-wrapper']\")\n",
    "for i in average[0:10]:\n",
    "    average=i.text"
   ]
  },
  {
   "cell_type": "code",
   "execution_count": 17,
   "id": "7e371627",
   "metadata": {},
   "outputs": [],
   "source": [
    "MinSal=driver.find_elements(By.XPATH,\"//div[@class='value body-medium']\")\n",
    "for i in MinSal[0:10]:\n",
    "    MinSal=i.text"
   ]
  },
  {
   "cell_type": "code",
   "execution_count": 18,
   "id": "23fc060d",
   "metadata": {},
   "outputs": [],
   "source": [
    "MaxSal=driver.find_elements(By.XPATH,\"//div[@class='value body-medium']\")\n",
    "for i in MaxSal[0:10]:\n",
    "    MaxSal=i.text"
   ]
  },
  {
   "cell_type": "code",
   "execution_count": 19,
   "id": "bcdafc2b",
   "metadata": {},
   "outputs": [
    {
     "name": "stdout",
     "output_type": "stream",
     "text": [
      "0 22 7 7 7\n"
     ]
    }
   ],
   "source": [
    "print(len(company),len(numbersal),len(average),len(MinSal),len(MaxSal))"
   ]
  },
  {
   "cell_type": "code",
   "execution_count": 20,
   "id": "c7f939a1",
   "metadata": {},
   "outputs": [],
   "source": [
    "df2=pd.DataFrame({'COMPANY NAME':company,'NUMBER OF SALARY':numbersal,'AVERAGE':average,\n",
    "                  'MINIMUM SALARY':MinSal,'MAXIMUM SALARY':MaxSal})"
   ]
  },
  {
   "cell_type": "code",
   "execution_count": 21,
   "id": "ace33ba1",
   "metadata": {},
   "outputs": [
    {
     "data": {
      "text/html": [
       "<div>\n",
       "<style scoped>\n",
       "    .dataframe tbody tr th:only-of-type {\n",
       "        vertical-align: middle;\n",
       "    }\n",
       "\n",
       "    .dataframe tbody tr th {\n",
       "        vertical-align: top;\n",
       "    }\n",
       "\n",
       "    .dataframe thead th {\n",
       "        text-align: right;\n",
       "    }\n",
       "</style>\n",
       "<table border=\"1\" class=\"dataframe\">\n",
       "  <thead>\n",
       "    <tr style=\"text-align: right;\">\n",
       "      <th></th>\n",
       "      <th>COMPANY NAME</th>\n",
       "      <th>NUMBER OF SALARY</th>\n",
       "      <th>AVERAGE</th>\n",
       "      <th>MINIMUM SALARY</th>\n",
       "      <th>MAXIMUM SALARY</th>\n",
       "    </tr>\n",
       "  </thead>\n",
       "  <tbody>\n",
       "  </tbody>\n",
       "</table>\n",
       "</div>"
      ],
      "text/plain": [
       "Empty DataFrame\n",
       "Columns: [COMPANY NAME, NUMBER OF SALARY, AVERAGE, MINIMUM SALARY, MAXIMUM SALARY]\n",
       "Index: []"
      ]
     },
     "execution_count": 21,
     "metadata": {},
     "output_type": "execute_result"
    }
   ],
   "source": [
    "df2"
   ]
  },
  {
   "cell_type": "code",
   "execution_count": null,
   "id": "ad03b2a9",
   "metadata": {},
   "outputs": [],
   "source": []
  }
 ],
 "metadata": {
  "kernelspec": {
   "display_name": "Python 3 (ipykernel)",
   "language": "python",
   "name": "python3"
  },
  "language_info": {
   "codemirror_mode": {
    "name": "ipython",
    "version": 3
   },
   "file_extension": ".py",
   "mimetype": "text/x-python",
   "name": "python",
   "nbconvert_exporter": "python",
   "pygments_lexer": "ipython3",
   "version": "3.9.12"
  }
 },
 "nbformat": 4,
 "nbformat_minor": 5
}
